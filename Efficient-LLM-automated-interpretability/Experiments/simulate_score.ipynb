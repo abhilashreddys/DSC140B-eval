{
 "cells": [
  {
   "cell_type": "code",
   "execution_count": 1,
   "metadata": {},
   "outputs": [],
   "source": [
    "import pandas as pd\n",
    "import utils\n",
    "from neuron_explainer.activations.activations import load_neuron"
   ]
  },
  {
   "cell_type": "code",
   "execution_count": 2,
   "metadata": {},
   "outputs": [
    {
     "data": {
      "text/html": [
       "<div>\n",
       "<style scoped>\n",
       "    .dataframe tbody tr th:only-of-type {\n",
       "        vertical-align: middle;\n",
       "    }\n",
       "\n",
       "    .dataframe tbody tr th {\n",
       "        vertical-align: top;\n",
       "    }\n",
       "\n",
       "    .dataframe thead th {\n",
       "        text-align: right;\n",
       "    }\n",
       "</style>\n",
       "<table border=\"1\" class=\"dataframe\">\n",
       "  <thead>\n",
       "    <tr style=\"text-align: right;\">\n",
       "      <th></th>\n",
       "      <th>layer</th>\n",
       "      <th>neuron</th>\n",
       "      <th>explainer</th>\n",
       "      <th>NeuronViewer</th>\n",
       "      <th>Original</th>\n",
       "      <th>Summary</th>\n",
       "      <th>Highlight</th>\n",
       "      <th>HighlightSummary</th>\n",
       "      <th>AVHS</th>\n",
       "    </tr>\n",
       "  </thead>\n",
       "  <tbody>\n",
       "    <tr>\n",
       "      <th>0</th>\n",
       "      <td>0</td>\n",
       "      <td>286</td>\n",
       "      <td>Meta-Llama-3.1-8B-Instruct</td>\n",
       "      <td>words related to comparison.</td>\n",
       "      <td>comparisons and relative differences.</td>\n",
       "      <td>words that indicate a comparison or a contrast.</td>\n",
       "      <td>words that can be paired with \"compar\".</td>\n",
       "      <td>words that indicate similarity or contrast.</td>\n",
       "      <td>words that mean 'different' or 'similar' when ...</td>\n",
       "    </tr>\n",
       "    <tr>\n",
       "      <th>1</th>\n",
       "      <td>10</td>\n",
       "      <td>1838</td>\n",
       "      <td>Meta-Llama-3.1-8B-Instruct</td>\n",
       "      <td>phrases describing positions or situations in...</td>\n",
       "      <td>individuals or groups who find themselves in s...</td>\n",
       "      <td>words or phrases that convey a sense of someth...</td>\n",
       "      <td>third person singular present tense verb forms...</td>\n",
       "      <td>first/second/third person reflexive forms of t...</td>\n",
       "      <td>the token \"in\" together with other words that ...</td>\n",
       "    </tr>\n",
       "    <tr>\n",
       "      <th>2</th>\n",
       "      <td>20</td>\n",
       "      <td>193</td>\n",
       "      <td>Meta-Llama-3.1-8B-Instruct</td>\n",
       "      <td>verbs indicating questioning or challenging be...</td>\n",
       "      <td>phrases related to social criticism and accoun...</td>\n",
       "      <td>phrases related to criticism, condemnation, or...</td>\n",
       "      <td>words related to social hierarchy and inequali...</td>\n",
       "      <td>words related to criticism, confrontation, and...</td>\n",
       "      <td>words related to negative actions or behaviors...</td>\n",
       "    </tr>\n",
       "    <tr>\n",
       "      <th>3</th>\n",
       "      <td>30</td>\n",
       "      <td>1685</td>\n",
       "      <td>Meta-Llama-3.1-8B-Instruct</td>\n",
       "      <td>expressions of gratitude and agreeing to rece...</td>\n",
       "      <td>opt-in forms for email newsletters and such re...</td>\n",
       "      <td>phrases related to subscriptions, permission t...</td>\n",
       "      <td>text segments related to newsletters, subscrip...</td>\n",
       "      <td>phrases related to user agreements, permission...</td>\n",
       "      <td>phrases related to taking or being a step.</td>\n",
       "    </tr>\n",
       "    <tr>\n",
       "      <th>4</th>\n",
       "      <td>40</td>\n",
       "      <td>431</td>\n",
       "      <td>Meta-Llama-3.1-8B-Instruct</td>\n",
       "      <td>numbers related to time, dates, and measureme...</td>\n",
       "      <td>data about upcoming events, specifically sport...</td>\n",
       "      <td>numbers, especially times and dates in the for...</td>\n",
       "      <td>time-related expressions and numerical values.</td>\n",
       "      <td>colons and numerals.</td>\n",
       "      <td>time-related information, specifically items r...</td>\n",
       "    </tr>\n",
       "  </tbody>\n",
       "</table>\n",
       "</div>"
      ],
      "text/plain": [
       "   layer  neuron                   explainer  \\\n",
       "0      0     286  Meta-Llama-3.1-8B-Instruct   \n",
       "1     10    1838  Meta-Llama-3.1-8B-Instruct   \n",
       "2     20     193  Meta-Llama-3.1-8B-Instruct   \n",
       "3     30    1685  Meta-Llama-3.1-8B-Instruct   \n",
       "4     40     431  Meta-Llama-3.1-8B-Instruct   \n",
       "\n",
       "                                        NeuronViewer  \\\n",
       "0                       words related to comparison.   \n",
       "1   phrases describing positions or situations in...   \n",
       "2  verbs indicating questioning or challenging be...   \n",
       "3   expressions of gratitude and agreeing to rece...   \n",
       "4   numbers related to time, dates, and measureme...   \n",
       "\n",
       "                                            Original  \\\n",
       "0              comparisons and relative differences.   \n",
       "1  individuals or groups who find themselves in s...   \n",
       "2  phrases related to social criticism and accoun...   \n",
       "3  opt-in forms for email newsletters and such re...   \n",
       "4  data about upcoming events, specifically sport...   \n",
       "\n",
       "                                             Summary  \\\n",
       "0    words that indicate a comparison or a contrast.   \n",
       "1  words or phrases that convey a sense of someth...   \n",
       "2  phrases related to criticism, condemnation, or...   \n",
       "3  phrases related to subscriptions, permission t...   \n",
       "4  numbers, especially times and dates in the for...   \n",
       "\n",
       "                                           Highlight  \\\n",
       "0            words that can be paired with \"compar\".   \n",
       "1  third person singular present tense verb forms...   \n",
       "2  words related to social hierarchy and inequali...   \n",
       "3  text segments related to newsletters, subscrip...   \n",
       "4     time-related expressions and numerical values.   \n",
       "\n",
       "                                    HighlightSummary  \\\n",
       "0        words that indicate similarity or contrast.   \n",
       "1  first/second/third person reflexive forms of t...   \n",
       "2  words related to criticism, confrontation, and...   \n",
       "3  phrases related to user agreements, permission...   \n",
       "4                               colons and numerals.   \n",
       "\n",
       "                                                AVHS  \n",
       "0  words that mean 'different' or 'similar' when ...  \n",
       "1  the token \"in\" together with other words that ...  \n",
       "2  words related to negative actions or behaviors...  \n",
       "3         phrases related to taking or being a step.  \n",
       "4  time-related information, specifically items r...  "
      ]
     },
     "execution_count": 2,
     "metadata": {},
     "output_type": "execute_result"
    }
   ],
   "source": [
    "SIMULATOR_MODEL = \"Meta-Llama-3.1-8B-Instruct\"#\"gpt-3.5-turbo-instruct\"\n",
    "INPUT_PATH = \"test_results/test_neurons_results.csv\"\n",
    "\n",
    "neuron_results_df = pd.read_csv(INPUT_PATH).drop('Unnamed: 0', axis = 1)\n",
    "neuron_results_df"
   ]
  },
  {
   "cell_type": "code",
   "execution_count": 3,
   "metadata": {},
   "outputs": [
    {
     "name": "stdout",
     "output_type": "stream",
     "text": [
      "<Response [400 Bad Request]>\n",
      "Retrying after an unexpected error: JSONDecodeError('Expecting value: line 1 column 1 (char 0)')\n"
     ]
    },
    {
     "name": "stderr",
     "output_type": "stream",
     "text": [
      "  File \"/workspace/Efficient-LLM-automated-interpretability/neuron-explainer/neuron_explainer/api_client.py\", line 70, in f_retry\n",
      "    return await f(*args, **kwargs)\n",
      "  File \"/workspace/Efficient-LLM-automated-interpretability/neuron-explainer/neuron_explainer/api_client.py\", line 144, in make_request\n",
      "    return response.json()\n",
      "  File \"/root/miniconda3/envs/sae/lib/python3.10/site-packages/httpx/_models.py\", line 832, in json\n",
      "    return jsonlib.loads(self.content, **kwargs)\n",
      "  File \"/root/miniconda3/envs/sae/lib/python3.10/json/__init__.py\", line 346, in loads\n",
      "    return _default_decoder.decode(s)\n",
      "  File \"/root/miniconda3/envs/sae/lib/python3.10/json/decoder.py\", line 337, in decode\n",
      "    obj, end = self.raw_decode(s, idx=_w(s, 0).end())\n",
      "  File \"/root/miniconda3/envs/sae/lib/python3.10/json/decoder.py\", line 355, in raw_decode\n",
      "    raise JSONDecodeError(\"Expecting value\", s, err.value) from None\n"
     ]
    },
    {
     "name": "stdout",
     "output_type": "stream",
     "text": [
      "<Response [400 Bad Request]>\n",
      "Retrying after an unexpected error: JSONDecodeError('Expecting value: line 1 column 1 (char 0)')\n"
     ]
    },
    {
     "name": "stderr",
     "output_type": "stream",
     "text": [
      "  File \"/workspace/Efficient-LLM-automated-interpretability/neuron-explainer/neuron_explainer/api_client.py\", line 70, in f_retry\n",
      "    return await f(*args, **kwargs)\n",
      "  File \"/workspace/Efficient-LLM-automated-interpretability/neuron-explainer/neuron_explainer/api_client.py\", line 144, in make_request\n",
      "    return response.json()\n",
      "  File \"/root/miniconda3/envs/sae/lib/python3.10/site-packages/httpx/_models.py\", line 832, in json\n",
      "    return jsonlib.loads(self.content, **kwargs)\n",
      "  File \"/root/miniconda3/envs/sae/lib/python3.10/json/__init__.py\", line 346, in loads\n",
      "    return _default_decoder.decode(s)\n",
      "  File \"/root/miniconda3/envs/sae/lib/python3.10/json/decoder.py\", line 337, in decode\n",
      "    obj, end = self.raw_decode(s, idx=_w(s, 0).end())\n",
      "  File \"/root/miniconda3/envs/sae/lib/python3.10/json/decoder.py\", line 355, in raw_decode\n",
      "    raise JSONDecodeError(\"Expecting value\", s, err.value) from None\n"
     ]
    },
    {
     "name": "stdout",
     "output_type": "stream",
     "text": [
      "<Response [400 Bad Request]>\n",
      "Retrying after an unexpected error: JSONDecodeError('Expecting value: line 1 column 1 (char 0)')\n"
     ]
    },
    {
     "name": "stderr",
     "output_type": "stream",
     "text": [
      "  File \"/workspace/Efficient-LLM-automated-interpretability/neuron-explainer/neuron_explainer/api_client.py\", line 70, in f_retry\n",
      "    return await f(*args, **kwargs)\n",
      "  File \"/workspace/Efficient-LLM-automated-interpretability/neuron-explainer/neuron_explainer/api_client.py\", line 144, in make_request\n",
      "    return response.json()\n",
      "  File \"/root/miniconda3/envs/sae/lib/python3.10/site-packages/httpx/_models.py\", line 832, in json\n",
      "    return jsonlib.loads(self.content, **kwargs)\n",
      "  File \"/root/miniconda3/envs/sae/lib/python3.10/json/__init__.py\", line 346, in loads\n",
      "    return _default_decoder.decode(s)\n",
      "  File \"/root/miniconda3/envs/sae/lib/python3.10/json/decoder.py\", line 337, in decode\n",
      "    obj, end = self.raw_decode(s, idx=_w(s, 0).end())\n",
      "  File \"/root/miniconda3/envs/sae/lib/python3.10/json/decoder.py\", line 355, in raw_decode\n",
      "    raise JSONDecodeError(\"Expecting value\", s, err.value) from None\n"
     ]
    },
    {
     "name": "stdout",
     "output_type": "stream",
     "text": [
      "<Response [400 Bad Request]>\n",
      "Retrying after an unexpected error: JSONDecodeError('Expecting value: line 1 column 1 (char 0)')\n"
     ]
    },
    {
     "name": "stderr",
     "output_type": "stream",
     "text": [
      "  File \"/workspace/Efficient-LLM-automated-interpretability/neuron-explainer/neuron_explainer/api_client.py\", line 70, in f_retry\n",
      "    return await f(*args, **kwargs)\n",
      "  File \"/workspace/Efficient-LLM-automated-interpretability/neuron-explainer/neuron_explainer/api_client.py\", line 144, in make_request\n",
      "    return response.json()\n",
      "  File \"/root/miniconda3/envs/sae/lib/python3.10/site-packages/httpx/_models.py\", line 832, in json\n",
      "    return jsonlib.loads(self.content, **kwargs)\n",
      "  File \"/root/miniconda3/envs/sae/lib/python3.10/json/__init__.py\", line 346, in loads\n",
      "    return _default_decoder.decode(s)\n",
      "  File \"/root/miniconda3/envs/sae/lib/python3.10/json/decoder.py\", line 337, in decode\n",
      "    obj, end = self.raw_decode(s, idx=_w(s, 0).end())\n",
      "  File \"/root/miniconda3/envs/sae/lib/python3.10/json/decoder.py\", line 355, in raw_decode\n",
      "    raise JSONDecodeError(\"Expecting value\", s, err.value) from None\n"
     ]
    },
    {
     "name": "stdout",
     "output_type": "stream",
     "text": [
      "<Response [400 Bad Request]>\n",
      "Retrying after an unexpected error: JSONDecodeError('Expecting value: line 1 column 1 (char 0)')\n"
     ]
    },
    {
     "name": "stderr",
     "output_type": "stream",
     "text": [
      "  File \"/workspace/Efficient-LLM-automated-interpretability/neuron-explainer/neuron_explainer/api_client.py\", line 70, in f_retry\n",
      "    return await f(*args, **kwargs)\n",
      "  File \"/workspace/Efficient-LLM-automated-interpretability/neuron-explainer/neuron_explainer/api_client.py\", line 144, in make_request\n",
      "    return response.json()\n",
      "  File \"/root/miniconda3/envs/sae/lib/python3.10/site-packages/httpx/_models.py\", line 832, in json\n",
      "    return jsonlib.loads(self.content, **kwargs)\n",
      "  File \"/root/miniconda3/envs/sae/lib/python3.10/json/__init__.py\", line 346, in loads\n",
      "    return _default_decoder.decode(s)\n",
      "  File \"/root/miniconda3/envs/sae/lib/python3.10/json/decoder.py\", line 337, in decode\n",
      "    obj, end = self.raw_decode(s, idx=_w(s, 0).end())\n",
      "  File \"/root/miniconda3/envs/sae/lib/python3.10/json/decoder.py\", line 355, in raw_decode\n",
      "    raise JSONDecodeError(\"Expecting value\", s, err.value) from None\n"
     ]
    },
    {
     "name": "stdout",
     "output_type": "stream",
     "text": [
      "<Response [400 Bad Request]>\n",
      "Retrying after an unexpected error: JSONDecodeError('Expecting value: line 1 column 1 (char 0)')\n"
     ]
    },
    {
     "name": "stderr",
     "output_type": "stream",
     "text": [
      "  File \"/workspace/Efficient-LLM-automated-interpretability/neuron-explainer/neuron_explainer/api_client.py\", line 70, in f_retry\n",
      "    return await f(*args, **kwargs)\n",
      "  File \"/workspace/Efficient-LLM-automated-interpretability/neuron-explainer/neuron_explainer/api_client.py\", line 144, in make_request\n",
      "    return response.json()\n",
      "  File \"/root/miniconda3/envs/sae/lib/python3.10/site-packages/httpx/_models.py\", line 832, in json\n",
      "    return jsonlib.loads(self.content, **kwargs)\n",
      "  File \"/root/miniconda3/envs/sae/lib/python3.10/json/__init__.py\", line 346, in loads\n",
      "    return _default_decoder.decode(s)\n",
      "  File \"/root/miniconda3/envs/sae/lib/python3.10/json/decoder.py\", line 337, in decode\n",
      "    obj, end = self.raw_decode(s, idx=_w(s, 0).end())\n",
      "  File \"/root/miniconda3/envs/sae/lib/python3.10/json/decoder.py\", line 355, in raw_decode\n",
      "    raise JSONDecodeError(\"Expecting value\", s, err.value) from None\n"
     ]
    },
    {
     "name": "stdout",
     "output_type": "stream",
     "text": [
      "<Response [400 Bad Request]>\n",
      "Retrying after an unexpected error: JSONDecodeError('Expecting value: line 1 column 1 (char 0)')\n"
     ]
    },
    {
     "name": "stderr",
     "output_type": "stream",
     "text": [
      "  File \"/workspace/Efficient-LLM-automated-interpretability/neuron-explainer/neuron_explainer/api_client.py\", line 70, in f_retry\n",
      "    return await f(*args, **kwargs)\n",
      "  File \"/workspace/Efficient-LLM-automated-interpretability/neuron-explainer/neuron_explainer/api_client.py\", line 144, in make_request\n",
      "    return response.json()\n",
      "  File \"/root/miniconda3/envs/sae/lib/python3.10/site-packages/httpx/_models.py\", line 832, in json\n",
      "    return jsonlib.loads(self.content, **kwargs)\n",
      "  File \"/root/miniconda3/envs/sae/lib/python3.10/json/__init__.py\", line 346, in loads\n",
      "    return _default_decoder.decode(s)\n",
      "  File \"/root/miniconda3/envs/sae/lib/python3.10/json/decoder.py\", line 337, in decode\n",
      "    obj, end = self.raw_decode(s, idx=_w(s, 0).end())\n",
      "  File \"/root/miniconda3/envs/sae/lib/python3.10/json/decoder.py\", line 355, in raw_decode\n",
      "    raise JSONDecodeError(\"Expecting value\", s, err.value) from None\n"
     ]
    },
    {
     "name": "stdout",
     "output_type": "stream",
     "text": [
      "<Response [400 Bad Request]>\n",
      "Retrying after an unexpected error: JSONDecodeError('Expecting value: line 1 column 1 (char 0)')\n"
     ]
    },
    {
     "name": "stderr",
     "output_type": "stream",
     "text": [
      "  File \"/workspace/Efficient-LLM-automated-interpretability/neuron-explainer/neuron_explainer/api_client.py\", line 70, in f_retry\n",
      "    return await f(*args, **kwargs)\n",
      "  File \"/workspace/Efficient-LLM-automated-interpretability/neuron-explainer/neuron_explainer/api_client.py\", line 144, in make_request\n",
      "    return response.json()\n",
      "  File \"/root/miniconda3/envs/sae/lib/python3.10/site-packages/httpx/_models.py\", line 832, in json\n",
      "    return jsonlib.loads(self.content, **kwargs)\n",
      "  File \"/root/miniconda3/envs/sae/lib/python3.10/json/__init__.py\", line 346, in loads\n",
      "    return _default_decoder.decode(s)\n",
      "  File \"/root/miniconda3/envs/sae/lib/python3.10/json/decoder.py\", line 337, in decode\n",
      "    obj, end = self.raw_decode(s, idx=_w(s, 0).end())\n",
      "  File \"/root/miniconda3/envs/sae/lib/python3.10/json/decoder.py\", line 355, in raw_decode\n",
      "    raise JSONDecodeError(\"Expecting value\", s, err.value) from None\n"
     ]
    },
    {
     "name": "stdout",
     "output_type": "stream",
     "text": [
      "<Response [400 Bad Request]>\n",
      "Retrying after an unexpected error: JSONDecodeError('Expecting value: line 1 column 1 (char 0)')\n"
     ]
    },
    {
     "name": "stderr",
     "output_type": "stream",
     "text": [
      "  File \"/workspace/Efficient-LLM-automated-interpretability/neuron-explainer/neuron_explainer/api_client.py\", line 70, in f_retry\n",
      "    return await f(*args, **kwargs)\n",
      "  File \"/workspace/Efficient-LLM-automated-interpretability/neuron-explainer/neuron_explainer/api_client.py\", line 144, in make_request\n",
      "    return response.json()\n",
      "  File \"/root/miniconda3/envs/sae/lib/python3.10/site-packages/httpx/_models.py\", line 832, in json\n",
      "    return jsonlib.loads(self.content, **kwargs)\n",
      "  File \"/root/miniconda3/envs/sae/lib/python3.10/json/__init__.py\", line 346, in loads\n",
      "    return _default_decoder.decode(s)\n",
      "  File \"/root/miniconda3/envs/sae/lib/python3.10/json/decoder.py\", line 337, in decode\n",
      "    obj, end = self.raw_decode(s, idx=_w(s, 0).end())\n",
      "  File \"/root/miniconda3/envs/sae/lib/python3.10/json/decoder.py\", line 355, in raw_decode\n",
      "    raise JSONDecodeError(\"Expecting value\", s, err.value) from None\n"
     ]
    },
    {
     "name": "stdout",
     "output_type": "stream",
     "text": [
      "<Response [400 Bad Request]>\n",
      "Retrying after an unexpected error: JSONDecodeError('Expecting value: line 1 column 1 (char 0)')\n"
     ]
    },
    {
     "name": "stderr",
     "output_type": "stream",
     "text": [
      "  File \"/workspace/Efficient-LLM-automated-interpretability/neuron-explainer/neuron_explainer/api_client.py\", line 70, in f_retry\n",
      "    return await f(*args, **kwargs)\n",
      "  File \"/workspace/Efficient-LLM-automated-interpretability/neuron-explainer/neuron_explainer/api_client.py\", line 144, in make_request\n",
      "    return response.json()\n",
      "  File \"/root/miniconda3/envs/sae/lib/python3.10/site-packages/httpx/_models.py\", line 832, in json\n",
      "    return jsonlib.loads(self.content, **kwargs)\n",
      "  File \"/root/miniconda3/envs/sae/lib/python3.10/json/__init__.py\", line 346, in loads\n",
      "    return _default_decoder.decode(s)\n",
      "  File \"/root/miniconda3/envs/sae/lib/python3.10/json/decoder.py\", line 337, in decode\n",
      "    obj, end = self.raw_decode(s, idx=_w(s, 0).end())\n",
      "  File \"/root/miniconda3/envs/sae/lib/python3.10/json/decoder.py\", line 355, in raw_decode\n",
      "    raise JSONDecodeError(\"Expecting value\", s, err.value) from None\n"
     ]
    },
    {
     "name": "stdout",
     "output_type": "stream",
     "text": [
      "<Response [400 Bad Request]>\n",
      "Retrying after an unexpected error: JSONDecodeError('Expecting value: line 1 column 1 (char 0)')\n"
     ]
    },
    {
     "name": "stderr",
     "output_type": "stream",
     "text": [
      "  File \"/workspace/Efficient-LLM-automated-interpretability/neuron-explainer/neuron_explainer/api_client.py\", line 70, in f_retry\n",
      "    return await f(*args, **kwargs)\n",
      "  File \"/workspace/Efficient-LLM-automated-interpretability/neuron-explainer/neuron_explainer/api_client.py\", line 144, in make_request\n",
      "    return response.json()\n",
      "  File \"/root/miniconda3/envs/sae/lib/python3.10/site-packages/httpx/_models.py\", line 832, in json\n",
      "    return jsonlib.loads(self.content, **kwargs)\n",
      "  File \"/root/miniconda3/envs/sae/lib/python3.10/json/__init__.py\", line 346, in loads\n",
      "    return _default_decoder.decode(s)\n",
      "  File \"/root/miniconda3/envs/sae/lib/python3.10/json/decoder.py\", line 337, in decode\n",
      "    obj, end = self.raw_decode(s, idx=_w(s, 0).end())\n",
      "  File \"/root/miniconda3/envs/sae/lib/python3.10/json/decoder.py\", line 355, in raw_decode\n",
      "    raise JSONDecodeError(\"Expecting value\", s, err.value) from None\n"
     ]
    },
    {
     "name": "stdout",
     "output_type": "stream",
     "text": [
      "<Response [400 Bad Request]>\n",
      "Retrying after an unexpected error: JSONDecodeError('Expecting value: line 1 column 1 (char 0)')\n"
     ]
    },
    {
     "name": "stderr",
     "output_type": "stream",
     "text": [
      "  File \"/workspace/Efficient-LLM-automated-interpretability/neuron-explainer/neuron_explainer/api_client.py\", line 70, in f_retry\n",
      "    return await f(*args, **kwargs)\n",
      "  File \"/workspace/Efficient-LLM-automated-interpretability/neuron-explainer/neuron_explainer/api_client.py\", line 144, in make_request\n",
      "    return response.json()\n",
      "  File \"/root/miniconda3/envs/sae/lib/python3.10/site-packages/httpx/_models.py\", line 832, in json\n",
      "    return jsonlib.loads(self.content, **kwargs)\n",
      "  File \"/root/miniconda3/envs/sae/lib/python3.10/json/__init__.py\", line 346, in loads\n",
      "    return _default_decoder.decode(s)\n",
      "  File \"/root/miniconda3/envs/sae/lib/python3.10/json/decoder.py\", line 337, in decode\n",
      "    obj, end = self.raw_decode(s, idx=_w(s, 0).end())\n",
      "  File \"/root/miniconda3/envs/sae/lib/python3.10/json/decoder.py\", line 355, in raw_decode\n",
      "    raise JSONDecodeError(\"Expecting value\", s, err.value) from None\n"
     ]
    },
    {
     "name": "stdout",
     "output_type": "stream",
     "text": [
      "<Response [400 Bad Request]>\n",
      "Retrying after an unexpected error: JSONDecodeError('Expecting value: line 1 column 1 (char 0)')\n"
     ]
    },
    {
     "name": "stderr",
     "output_type": "stream",
     "text": [
      "  File \"/workspace/Efficient-LLM-automated-interpretability/neuron-explainer/neuron_explainer/api_client.py\", line 70, in f_retry\n",
      "    return await f(*args, **kwargs)\n",
      "  File \"/workspace/Efficient-LLM-automated-interpretability/neuron-explainer/neuron_explainer/api_client.py\", line 144, in make_request\n",
      "    return response.json()\n",
      "  File \"/root/miniconda3/envs/sae/lib/python3.10/site-packages/httpx/_models.py\", line 832, in json\n",
      "    return jsonlib.loads(self.content, **kwargs)\n",
      "  File \"/root/miniconda3/envs/sae/lib/python3.10/json/__init__.py\", line 346, in loads\n",
      "    return _default_decoder.decode(s)\n",
      "  File \"/root/miniconda3/envs/sae/lib/python3.10/json/decoder.py\", line 337, in decode\n",
      "    obj, end = self.raw_decode(s, idx=_w(s, 0).end())\n",
      "  File \"/root/miniconda3/envs/sae/lib/python3.10/json/decoder.py\", line 355, in raw_decode\n",
      "    raise JSONDecodeError(\"Expecting value\", s, err.value) from None\n"
     ]
    },
    {
     "name": "stdout",
     "output_type": "stream",
     "text": [
      "<Response [400 Bad Request]>\n",
      "Retrying after an unexpected error: JSONDecodeError('Expecting value: line 1 column 1 (char 0)')\n"
     ]
    },
    {
     "name": "stderr",
     "output_type": "stream",
     "text": [
      "  File \"/workspace/Efficient-LLM-automated-interpretability/neuron-explainer/neuron_explainer/api_client.py\", line 70, in f_retry\n",
      "    return await f(*args, **kwargs)\n",
      "  File \"/workspace/Efficient-LLM-automated-interpretability/neuron-explainer/neuron_explainer/api_client.py\", line 144, in make_request\n",
      "    return response.json()\n",
      "  File \"/root/miniconda3/envs/sae/lib/python3.10/site-packages/httpx/_models.py\", line 832, in json\n",
      "    return jsonlib.loads(self.content, **kwargs)\n",
      "  File \"/root/miniconda3/envs/sae/lib/python3.10/json/__init__.py\", line 346, in loads\n",
      "    return _default_decoder.decode(s)\n",
      "  File \"/root/miniconda3/envs/sae/lib/python3.10/json/decoder.py\", line 337, in decode\n",
      "    obj, end = self.raw_decode(s, idx=_w(s, 0).end())\n",
      "  File \"/root/miniconda3/envs/sae/lib/python3.10/json/decoder.py\", line 355, in raw_decode\n",
      "    raise JSONDecodeError(\"Expecting value\", s, err.value) from None\n"
     ]
    },
    {
     "name": "stdout",
     "output_type": "stream",
     "text": [
      "<Response [400 Bad Request]>\n",
      "Retrying after an unexpected error: JSONDecodeError('Expecting value: line 1 column 1 (char 0)')\n"
     ]
    },
    {
     "name": "stderr",
     "output_type": "stream",
     "text": [
      "  File \"/workspace/Efficient-LLM-automated-interpretability/neuron-explainer/neuron_explainer/api_client.py\", line 70, in f_retry\n",
      "    return await f(*args, **kwargs)\n",
      "  File \"/workspace/Efficient-LLM-automated-interpretability/neuron-explainer/neuron_explainer/api_client.py\", line 144, in make_request\n",
      "    return response.json()\n",
      "  File \"/root/miniconda3/envs/sae/lib/python3.10/site-packages/httpx/_models.py\", line 832, in json\n",
      "    return jsonlib.loads(self.content, **kwargs)\n",
      "  File \"/root/miniconda3/envs/sae/lib/python3.10/json/__init__.py\", line 346, in loads\n",
      "    return _default_decoder.decode(s)\n",
      "  File \"/root/miniconda3/envs/sae/lib/python3.10/json/decoder.py\", line 337, in decode\n",
      "    obj, end = self.raw_decode(s, idx=_w(s, 0).end())\n",
      "  File \"/root/miniconda3/envs/sae/lib/python3.10/json/decoder.py\", line 355, in raw_decode\n",
      "    raise JSONDecodeError(\"Expecting value\", s, err.value) from None\n"
     ]
    },
    {
     "name": "stdout",
     "output_type": "stream",
     "text": [
      "<Response [400 Bad Request]>\n",
      "Retrying after an unexpected error: JSONDecodeError('Expecting value: line 1 column 1 (char 0)')\n"
     ]
    },
    {
     "name": "stderr",
     "output_type": "stream",
     "text": [
      "  File \"/workspace/Efficient-LLM-automated-interpretability/neuron-explainer/neuron_explainer/api_client.py\", line 70, in f_retry\n",
      "    return await f(*args, **kwargs)\n",
      "  File \"/workspace/Efficient-LLM-automated-interpretability/neuron-explainer/neuron_explainer/api_client.py\", line 144, in make_request\n",
      "    return response.json()\n",
      "  File \"/root/miniconda3/envs/sae/lib/python3.10/site-packages/httpx/_models.py\", line 832, in json\n",
      "    return jsonlib.loads(self.content, **kwargs)\n",
      "  File \"/root/miniconda3/envs/sae/lib/python3.10/json/__init__.py\", line 346, in loads\n",
      "    return _default_decoder.decode(s)\n",
      "  File \"/root/miniconda3/envs/sae/lib/python3.10/json/decoder.py\", line 337, in decode\n",
      "    obj, end = self.raw_decode(s, idx=_w(s, 0).end())\n",
      "  File \"/root/miniconda3/envs/sae/lib/python3.10/json/decoder.py\", line 355, in raw_decode\n",
      "    raise JSONDecodeError(\"Expecting value\", s, err.value) from None\n"
     ]
    },
    {
     "name": "stdout",
     "output_type": "stream",
     "text": [
      "<Response [400 Bad Request]>\n",
      "Retrying after an unexpected error: JSONDecodeError('Expecting value: line 1 column 1 (char 0)')\n"
     ]
    },
    {
     "name": "stderr",
     "output_type": "stream",
     "text": [
      "  File \"/workspace/Efficient-LLM-automated-interpretability/neuron-explainer/neuron_explainer/api_client.py\", line 70, in f_retry\n",
      "    return await f(*args, **kwargs)\n",
      "  File \"/workspace/Efficient-LLM-automated-interpretability/neuron-explainer/neuron_explainer/api_client.py\", line 144, in make_request\n",
      "    return response.json()\n",
      "  File \"/root/miniconda3/envs/sae/lib/python3.10/site-packages/httpx/_models.py\", line 832, in json\n",
      "    return jsonlib.loads(self.content, **kwargs)\n",
      "  File \"/root/miniconda3/envs/sae/lib/python3.10/json/__init__.py\", line 346, in loads\n",
      "    return _default_decoder.decode(s)\n",
      "  File \"/root/miniconda3/envs/sae/lib/python3.10/json/decoder.py\", line 337, in decode\n",
      "    obj, end = self.raw_decode(s, idx=_w(s, 0).end())\n",
      "  File \"/root/miniconda3/envs/sae/lib/python3.10/json/decoder.py\", line 355, in raw_decode\n",
      "    raise JSONDecodeError(\"Expecting value\", s, err.value) from None\n"
     ]
    },
    {
     "name": "stdout",
     "output_type": "stream",
     "text": [
      "<Response [400 Bad Request]>\n",
      "Retrying after an unexpected error: JSONDecodeError('Expecting value: line 1 column 1 (char 0)')\n"
     ]
    },
    {
     "name": "stderr",
     "output_type": "stream",
     "text": [
      "  File \"/workspace/Efficient-LLM-automated-interpretability/neuron-explainer/neuron_explainer/api_client.py\", line 70, in f_retry\n",
      "    return await f(*args, **kwargs)\n",
      "  File \"/workspace/Efficient-LLM-automated-interpretability/neuron-explainer/neuron_explainer/api_client.py\", line 144, in make_request\n",
      "    return response.json()\n",
      "  File \"/root/miniconda3/envs/sae/lib/python3.10/site-packages/httpx/_models.py\", line 832, in json\n",
      "    return jsonlib.loads(self.content, **kwargs)\n",
      "  File \"/root/miniconda3/envs/sae/lib/python3.10/json/__init__.py\", line 346, in loads\n",
      "    return _default_decoder.decode(s)\n",
      "  File \"/root/miniconda3/envs/sae/lib/python3.10/json/decoder.py\", line 337, in decode\n",
      "    obj, end = self.raw_decode(s, idx=_w(s, 0).end())\n",
      "  File \"/root/miniconda3/envs/sae/lib/python3.10/json/decoder.py\", line 355, in raw_decode\n",
      "    raise JSONDecodeError(\"Expecting value\", s, err.value) from None\n"
     ]
    },
    {
     "ename": "CancelledError",
     "evalue": "",
     "output_type": "error",
     "traceback": [
      "\u001b[0;31m---------------------------------------------------------------------------\u001b[0m",
      "\u001b[0;31mJSONDecodeError\u001b[0m                           Traceback (most recent call last)",
      "File \u001b[0;32m/workspace/Efficient-LLM-automated-interpretability/neuron-explainer/neuron_explainer/api_client.py:70\u001b[0m, in \u001b[0;36mexponential_backoff.<locals>.decorate.<locals>.f_retry\u001b[0;34m(*args, **kwargs)\u001b[0m\n\u001b[1;32m     69\u001b[0m \u001b[38;5;28;01mtry\u001b[39;00m:\n\u001b[0;32m---> 70\u001b[0m     \u001b[38;5;28;01mreturn\u001b[39;00m \u001b[38;5;28;01mawait\u001b[39;00m f(\u001b[38;5;241m*\u001b[39margs, \u001b[38;5;241m*\u001b[39m\u001b[38;5;241m*\u001b[39mkwargs)\n\u001b[1;32m     71\u001b[0m \u001b[38;5;28;01mexcept\u001b[39;00m \u001b[38;5;167;01mException\u001b[39;00m \u001b[38;5;28;01mas\u001b[39;00m err:\n",
      "File \u001b[0;32m/workspace/Efficient-LLM-automated-interpretability/neuron-explainer/neuron_explainer/api_client.py:144\u001b[0m, in \u001b[0;36mApiClient.make_request\u001b[0;34m(self, timeout_seconds, **kwargs)\u001b[0m\n\u001b[1;32m    143\u001b[0m     \u001b[38;5;28mself\u001b[39m\u001b[38;5;241m.\u001b[39m_cache[key] \u001b[38;5;241m=\u001b[39m response\u001b[38;5;241m.\u001b[39mjson()\n\u001b[0;32m--> 144\u001b[0m \u001b[38;5;28;01mreturn\u001b[39;00m \u001b[43mresponse\u001b[49m\u001b[38;5;241;43m.\u001b[39;49m\u001b[43mjson\u001b[49m\u001b[43m(\u001b[49m\u001b[43m)\u001b[49m\n",
      "File \u001b[0;32m~/miniconda3/envs/sae/lib/python3.10/site-packages/httpx/_models.py:832\u001b[0m, in \u001b[0;36mResponse.json\u001b[0;34m(self, **kwargs)\u001b[0m\n\u001b[1;32m    831\u001b[0m \u001b[38;5;28;01mdef\u001b[39;00m\u001b[38;5;250m \u001b[39m\u001b[38;5;21mjson\u001b[39m(\u001b[38;5;28mself\u001b[39m, \u001b[38;5;241m*\u001b[39m\u001b[38;5;241m*\u001b[39mkwargs: typing\u001b[38;5;241m.\u001b[39mAny) \u001b[38;5;241m-\u001b[39m\u001b[38;5;241m>\u001b[39m typing\u001b[38;5;241m.\u001b[39mAny:\n\u001b[0;32m--> 832\u001b[0m     \u001b[38;5;28;01mreturn\u001b[39;00m \u001b[43mjsonlib\u001b[49m\u001b[38;5;241;43m.\u001b[39;49m\u001b[43mloads\u001b[49m\u001b[43m(\u001b[49m\u001b[38;5;28;43mself\u001b[39;49m\u001b[38;5;241;43m.\u001b[39;49m\u001b[43mcontent\u001b[49m\u001b[43m,\u001b[49m\u001b[43m \u001b[49m\u001b[38;5;241;43m*\u001b[39;49m\u001b[38;5;241;43m*\u001b[39;49m\u001b[43mkwargs\u001b[49m\u001b[43m)\u001b[49m\n",
      "File \u001b[0;32m~/miniconda3/envs/sae/lib/python3.10/json/__init__.py:346\u001b[0m, in \u001b[0;36mloads\u001b[0;34m(s, cls, object_hook, parse_float, parse_int, parse_constant, object_pairs_hook, **kw)\u001b[0m\n\u001b[1;32m    343\u001b[0m \u001b[38;5;28;01mif\u001b[39;00m (\u001b[38;5;28mcls\u001b[39m \u001b[38;5;129;01mis\u001b[39;00m \u001b[38;5;28;01mNone\u001b[39;00m \u001b[38;5;129;01mand\u001b[39;00m object_hook \u001b[38;5;129;01mis\u001b[39;00m \u001b[38;5;28;01mNone\u001b[39;00m \u001b[38;5;129;01mand\u001b[39;00m\n\u001b[1;32m    344\u001b[0m         parse_int \u001b[38;5;129;01mis\u001b[39;00m \u001b[38;5;28;01mNone\u001b[39;00m \u001b[38;5;129;01mand\u001b[39;00m parse_float \u001b[38;5;129;01mis\u001b[39;00m \u001b[38;5;28;01mNone\u001b[39;00m \u001b[38;5;129;01mand\u001b[39;00m\n\u001b[1;32m    345\u001b[0m         parse_constant \u001b[38;5;129;01mis\u001b[39;00m \u001b[38;5;28;01mNone\u001b[39;00m \u001b[38;5;129;01mand\u001b[39;00m object_pairs_hook \u001b[38;5;129;01mis\u001b[39;00m \u001b[38;5;28;01mNone\u001b[39;00m \u001b[38;5;129;01mand\u001b[39;00m \u001b[38;5;129;01mnot\u001b[39;00m kw):\n\u001b[0;32m--> 346\u001b[0m     \u001b[38;5;28;01mreturn\u001b[39;00m \u001b[43m_default_decoder\u001b[49m\u001b[38;5;241;43m.\u001b[39;49m\u001b[43mdecode\u001b[49m\u001b[43m(\u001b[49m\u001b[43ms\u001b[49m\u001b[43m)\u001b[49m\n\u001b[1;32m    347\u001b[0m \u001b[38;5;28;01mif\u001b[39;00m \u001b[38;5;28mcls\u001b[39m \u001b[38;5;129;01mis\u001b[39;00m \u001b[38;5;28;01mNone\u001b[39;00m:\n",
      "File \u001b[0;32m~/miniconda3/envs/sae/lib/python3.10/json/decoder.py:337\u001b[0m, in \u001b[0;36mJSONDecoder.decode\u001b[0;34m(self, s, _w)\u001b[0m\n\u001b[1;32m    333\u001b[0m \u001b[38;5;250m\u001b[39m\u001b[38;5;124;03m\"\"\"Return the Python representation of ``s`` (a ``str`` instance\u001b[39;00m\n\u001b[1;32m    334\u001b[0m \u001b[38;5;124;03mcontaining a JSON document).\u001b[39;00m\n\u001b[1;32m    335\u001b[0m \n\u001b[1;32m    336\u001b[0m \u001b[38;5;124;03m\"\"\"\u001b[39;00m\n\u001b[0;32m--> 337\u001b[0m obj, end \u001b[38;5;241m=\u001b[39m \u001b[38;5;28;43mself\u001b[39;49m\u001b[38;5;241;43m.\u001b[39;49m\u001b[43mraw_decode\u001b[49m\u001b[43m(\u001b[49m\u001b[43ms\u001b[49m\u001b[43m,\u001b[49m\u001b[43m \u001b[49m\u001b[43midx\u001b[49m\u001b[38;5;241;43m=\u001b[39;49m\u001b[43m_w\u001b[49m\u001b[43m(\u001b[49m\u001b[43ms\u001b[49m\u001b[43m,\u001b[49m\u001b[43m \u001b[49m\u001b[38;5;241;43m0\u001b[39;49m\u001b[43m)\u001b[49m\u001b[38;5;241;43m.\u001b[39;49m\u001b[43mend\u001b[49m\u001b[43m(\u001b[49m\u001b[43m)\u001b[49m\u001b[43m)\u001b[49m\n\u001b[1;32m    338\u001b[0m end \u001b[38;5;241m=\u001b[39m _w(s, end)\u001b[38;5;241m.\u001b[39mend()\n",
      "File \u001b[0;32m~/miniconda3/envs/sae/lib/python3.10/json/decoder.py:355\u001b[0m, in \u001b[0;36mJSONDecoder.raw_decode\u001b[0;34m(self, s, idx)\u001b[0m\n\u001b[1;32m    354\u001b[0m \u001b[38;5;28;01mexcept\u001b[39;00m \u001b[38;5;167;01mStopIteration\u001b[39;00m \u001b[38;5;28;01mas\u001b[39;00m err:\n\u001b[0;32m--> 355\u001b[0m     \u001b[38;5;28;01mraise\u001b[39;00m JSONDecodeError(\u001b[38;5;124m\"\u001b[39m\u001b[38;5;124mExpecting value\u001b[39m\u001b[38;5;124m\"\u001b[39m, s, err\u001b[38;5;241m.\u001b[39mvalue) \u001b[38;5;28;01mfrom\u001b[39;00m\u001b[38;5;250m \u001b[39m\u001b[38;5;28;01mNone\u001b[39;00m\n\u001b[1;32m    356\u001b[0m \u001b[38;5;28;01mreturn\u001b[39;00m obj, end\n",
      "\u001b[0;31mJSONDecodeError\u001b[0m: Expecting value: line 1 column 1 (char 0)",
      "\nDuring handling of the above exception, another exception occurred:\n",
      "\u001b[0;31mCancelledError\u001b[0m                            Traceback (most recent call last)",
      "File \u001b[0;32m/workspace/Efficient-LLM-automated-interpretability/neuron-explainer/neuron_explainer/api_client.py:75\u001b[0m, in \u001b[0;36mexponential_backoff.<locals>.decorate.<locals>.f_retry\u001b[0;34m(*args, **kwargs)\u001b[0m\n\u001b[1;32m     74\u001b[0m jittered_delay \u001b[38;5;241m=\u001b[39m random\u001b[38;5;241m.\u001b[39muniform(delay_s \u001b[38;5;241m*\u001b[39m (\u001b[38;5;241m1\u001b[39m \u001b[38;5;241m-\u001b[39m jitter), delay_s \u001b[38;5;241m*\u001b[39m (\u001b[38;5;241m1\u001b[39m \u001b[38;5;241m+\u001b[39m jitter))\n\u001b[0;32m---> 75\u001b[0m \u001b[38;5;28;01mawait\u001b[39;00m asyncio\u001b[38;5;241m.\u001b[39msleep(jittered_delay)\n\u001b[1;32m     76\u001b[0m delay_s \u001b[38;5;241m=\u001b[39m \u001b[38;5;28mmin\u001b[39m(delay_s \u001b[38;5;241m*\u001b[39m backoff_multiplier, max_delay_s)\n",
      "File \u001b[0;32m~/miniconda3/envs/sae/lib/python3.10/asyncio/tasks.py:605\u001b[0m, in \u001b[0;36msleep\u001b[0;34m(delay, result)\u001b[0m\n\u001b[1;32m    604\u001b[0m \u001b[38;5;28;01mtry\u001b[39;00m:\n\u001b[0;32m--> 605\u001b[0m     \u001b[38;5;28;01mreturn\u001b[39;00m \u001b[38;5;28;01mawait\u001b[39;00m future\n\u001b[1;32m    606\u001b[0m \u001b[38;5;28;01mfinally\u001b[39;00m:\n",
      "\u001b[0;31mCancelledError\u001b[0m: ",
      "\nDuring handling of the above exception, another exception occurred:\n",
      "\u001b[0;31mCancelledError\u001b[0m                            Traceback (most recent call last)",
      "Cell \u001b[0;32mIn[3], line 13\u001b[0m\n\u001b[1;32m     10\u001b[0m     simScore_results[\u001b[38;5;124m\"\u001b[39m\u001b[38;5;124mneuron\u001b[39m\u001b[38;5;124m\"\u001b[39m]\u001b[38;5;241m.\u001b[39mappend(neuron)\n\u001b[1;32m     12\u001b[0m     \u001b[38;5;28;01mfor\u001b[39;00m mode \u001b[38;5;129;01min\u001b[39;00m modes:\n\u001b[0;32m---> 13\u001b[0m         simScore_results[mode]\u001b[38;5;241m.\u001b[39mappend(\u001b[38;5;28;01mawait\u001b[39;00m utils\u001b[38;5;241m.\u001b[39mget_score( row[mode], layer, neuron, SIMULATOR_MODEL))\n\u001b[1;32m     15\u001b[0m new_df \u001b[38;5;241m=\u001b[39m pd\u001b[38;5;241m.\u001b[39mDataFrame(simScore_results)\n\u001b[1;32m     16\u001b[0m new_df\n",
      "File \u001b[0;32m/workspace/Efficient-LLM-automated-interpretability/neuron-explainer/utils.py:206\u001b[0m, in \u001b[0;36mget_score\u001b[0;34m(explanation, layer, neuron, simulator_model)\u001b[0m\n\u001b[1;32m    194\u001b[0m valid_activation_records \u001b[38;5;241m=\u001b[39m neuron_record\u001b[38;5;241m.\u001b[39mvalid_activation_records(\n\u001b[1;32m    195\u001b[0m     activation_record_slice_params\u001b[38;5;241m=\u001b[39mslice_params\n\u001b[1;32m    196\u001b[0m )\n\u001b[1;32m    198\u001b[0m simulator \u001b[38;5;241m=\u001b[39m UncalibratedNeuronSimulator(\n\u001b[1;32m    199\u001b[0m     ExplanationNeuronSimulator(\n\u001b[1;32m    200\u001b[0m         SIMULATOR_MODEL_NAME,\n\u001b[0;32m   (...)\u001b[0m\n\u001b[1;32m    204\u001b[0m     )\n\u001b[1;32m    205\u001b[0m )\n\u001b[0;32m--> 206\u001b[0m scored_simulation \u001b[38;5;241m=\u001b[39m \u001b[38;5;28;01mawait\u001b[39;00m simulate_and_score(simulator, valid_activation_records)\n\u001b[1;32m    207\u001b[0m \u001b[38;5;28;01mreturn\u001b[39;00m \u001b[38;5;28mfloat\u001b[39m(\u001b[38;5;124mf\u001b[39m\u001b[38;5;124m\"\u001b[39m\u001b[38;5;132;01m{\u001b[39;00mscored_simulation\u001b[38;5;241m.\u001b[39mget_preferred_score()\u001b[38;5;132;01m:\u001b[39;00m\u001b[38;5;124m.2f\u001b[39m\u001b[38;5;132;01m}\u001b[39;00m\u001b[38;5;124m\"\u001b[39m)\n",
      "File \u001b[0;32m/workspace/Efficient-LLM-automated-interpretability/neuron-explainer/neuron_explainer/explanations/scoring.py:137\u001b[0m, in \u001b[0;36msimulate_and_score\u001b[0;34m(simulator, activation_records)\u001b[0m\n\u001b[1;32m    129\u001b[0m \u001b[38;5;28;01masync\u001b[39;00m \u001b[38;5;28;01mdef\u001b[39;00m\u001b[38;5;250m \u001b[39m\u001b[38;5;21msimulate_and_score\u001b[39m(\n\u001b[1;32m    130\u001b[0m     simulator: NeuronSimulator,\n\u001b[1;32m    131\u001b[0m     activation_records: Sequence[ActivationRecord],\n\u001b[1;32m    132\u001b[0m ) \u001b[38;5;241m-\u001b[39m\u001b[38;5;241m>\u001b[39m ScoredSimulation:\n\u001b[1;32m    133\u001b[0m \u001b[38;5;250m    \u001b[39m\u001b[38;5;124;03m\"\"\"\u001b[39;00m\n\u001b[1;32m    134\u001b[0m \u001b[38;5;124;03m    Score an explanation of a neuron by how well it predicts activations on the given text\u001b[39;00m\n\u001b[1;32m    135\u001b[0m \u001b[38;5;124;03m    sequences.\u001b[39;00m\n\u001b[1;32m    136\u001b[0m \u001b[38;5;124;03m    \"\"\"\u001b[39;00m\n\u001b[0;32m--> 137\u001b[0m     scored_sequence_simulations \u001b[38;5;241m=\u001b[39m \u001b[38;5;28;01mawait\u001b[39;00m asyncio\u001b[38;5;241m.\u001b[39mgather(\n\u001b[1;32m    138\u001b[0m         \u001b[38;5;241m*\u001b[39m[\n\u001b[1;32m    139\u001b[0m             _simulate_and_score_sequence(\n\u001b[1;32m    140\u001b[0m                 simulator,\n\u001b[1;32m    141\u001b[0m                 activation_record,\n\u001b[1;32m    142\u001b[0m             )\n\u001b[1;32m    143\u001b[0m             \u001b[38;5;28;01mfor\u001b[39;00m activation_record \u001b[38;5;129;01min\u001b[39;00m activation_records\n\u001b[1;32m    144\u001b[0m         ]\n\u001b[1;32m    145\u001b[0m     )\n\u001b[1;32m    146\u001b[0m     \u001b[38;5;28;01mreturn\u001b[39;00m aggregate_scored_sequence_simulations(scored_sequence_simulations)\n",
      "\u001b[0;31mCancelledError\u001b[0m: "
     ]
    }
   ],
   "source": [
    "modes = [\"Original\", \"Summary\", \"Highlight\", \"HighlightSummary\", \"AVHS\"]\n",
    "simScore_results = {\"layer\":[], \"neuron\":[]}\n",
    "for mode in modes:\n",
    "    simScore_results[mode] = []\n",
    "\n",
    "for i, row in neuron_results_df.iterrows():\n",
    "    layer = row[\"layer\"]\n",
    "    neuron = row[\"neuron\"]\n",
    "    simScore_results[\"layer\"].append(layer)\n",
    "    simScore_results[\"neuron\"].append(neuron)\n",
    "    \n",
    "    for mode in modes:\n",
    "        simScore_results[mode].append(await utils.get_score( row[mode], layer, neuron, SIMULATOR_MODEL))\n",
    "\n",
    "new_df = pd.DataFrame(simScore_results)\n",
    "new_df"
   ]
  },
  {
   "cell_type": "code",
   "execution_count": 4,
   "metadata": {},
   "outputs": [],
   "source": [
    "new_df.to_csv(INPUT_PATH.split(\".\")[0] + \"_score.csv\")"
   ]
  }
 ],
 "metadata": {
  "kernelspec": {
   "display_name": "sae",
   "language": "python",
   "name": "sae"
  },
  "language_info": {
   "codemirror_mode": {
    "name": "ipython",
    "version": 3
   },
   "file_extension": ".py",
   "mimetype": "text/x-python",
   "name": "python",
   "nbconvert_exporter": "python",
   "pygments_lexer": "ipython3",
   "version": "3.10.16"
  }
 },
 "nbformat": 4,
 "nbformat_minor": 4
}
