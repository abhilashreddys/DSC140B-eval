{
 "cells": [
  {
   "cell_type": "code",
   "execution_count": 1,
   "metadata": {},
   "outputs": [],
   "source": [
    "import numpy as np\n",
    "import pandas as pd\n",
    "import utils\n",
    "from neuron_explainer.activations.activations import ActivationRecordSliceParams, load_neuron"
   ]
  },
  {
   "cell_type": "code",
   "execution_count": 2,
   "metadata": {},
   "outputs": [
    {
     "data": {
      "text/html": [
       "<div>\n",
       "<style scoped>\n",
       "    .dataframe tbody tr th:only-of-type {\n",
       "        vertical-align: middle;\n",
       "    }\n",
       "\n",
       "    .dataframe tbody tr th {\n",
       "        vertical-align: top;\n",
       "    }\n",
       "\n",
       "    .dataframe thead th {\n",
       "        text-align: right;\n",
       "    }\n",
       "</style>\n",
       "<table border=\"1\" class=\"dataframe\">\n",
       "  <thead>\n",
       "    <tr style=\"text-align: right;\">\n",
       "      <th></th>\n",
       "      <th>layer</th>\n",
       "      <th>neuron</th>\n",
       "      <th>score</th>\n",
       "      <th>explanation</th>\n",
       "    </tr>\n",
       "  </thead>\n",
       "  <tbody>\n",
       "    <tr>\n",
       "      <th>0</th>\n",
       "      <td>0</td>\n",
       "      <td>286</td>\n",
       "      <td>0.663509</td>\n",
       "      <td>words related to comparison.</td>\n",
       "    </tr>\n",
       "    <tr>\n",
       "      <th>1</th>\n",
       "      <td>10</td>\n",
       "      <td>1838</td>\n",
       "      <td>0.676886</td>\n",
       "      <td>phrases describing positions or situations in...</td>\n",
       "    </tr>\n",
       "    <tr>\n",
       "      <th>2</th>\n",
       "      <td>20</td>\n",
       "      <td>193</td>\n",
       "      <td>0.455764</td>\n",
       "      <td>verbs indicating questioning or challenging be...</td>\n",
       "    </tr>\n",
       "    <tr>\n",
       "      <th>3</th>\n",
       "      <td>30</td>\n",
       "      <td>1685</td>\n",
       "      <td>0.537097</td>\n",
       "      <td>expressions of gratitude and agreeing to rece...</td>\n",
       "    </tr>\n",
       "    <tr>\n",
       "      <th>4</th>\n",
       "      <td>40</td>\n",
       "      <td>431</td>\n",
       "      <td>0.365750</td>\n",
       "      <td>numbers related to time, dates, and measureme...</td>\n",
       "    </tr>\n",
       "  </tbody>\n",
       "</table>\n",
       "</div>"
      ],
      "text/plain": [
       "   layer  neuron     score                                        explanation\n",
       "0      0     286  0.663509                       words related to comparison.\n",
       "1     10    1838  0.676886   phrases describing positions or situations in...\n",
       "2     20     193  0.455764  verbs indicating questioning or challenging be...\n",
       "3     30    1685  0.537097   expressions of gratitude and agreeing to rece...\n",
       "4     40     431  0.365750   numbers related to time, dates, and measureme..."
      ]
     },
     "execution_count": 2,
     "metadata": {},
     "output_type": "execute_result"
    }
   ],
   "source": [
    "EXPLAINER_MODEL = \"Meta-Llama-3.1-8B-Instruct\"\n",
    "INPUT_PATH = \"inputs/test_neurons.csv\"\n",
    "\n",
    "neuron_df = pd.read_csv(INPUT_PATH)\n",
    "neuron_df"
   ]
  },
  {
   "cell_type": "code",
   "execution_count": 3,
   "metadata": {},
   "outputs": [
    {
     "data": {
      "text/html": [
       "<div>\n",
       "<style scoped>\n",
       "    .dataframe tbody tr th:only-of-type {\n",
       "        vertical-align: middle;\n",
       "    }\n",
       "\n",
       "    .dataframe tbody tr th {\n",
       "        vertical-align: top;\n",
       "    }\n",
       "\n",
       "    .dataframe thead th {\n",
       "        text-align: right;\n",
       "    }\n",
       "</style>\n",
       "<table border=\"1\" class=\"dataframe\">\n",
       "  <thead>\n",
       "    <tr style=\"text-align: right;\">\n",
       "      <th></th>\n",
       "      <th>layer</th>\n",
       "      <th>neuron</th>\n",
       "      <th>explainer</th>\n",
       "      <th>Original</th>\n",
       "      <th>Summary</th>\n",
       "      <th>Highlight</th>\n",
       "      <th>HighlightSummary</th>\n",
       "      <th>AVHS</th>\n",
       "    </tr>\n",
       "  </thead>\n",
       "  <tbody>\n",
       "    <tr>\n",
       "      <th>0</th>\n",
       "      <td>0</td>\n",
       "      <td>286</td>\n",
       "      <td>Meta-Llama-3.1-8B-Instruct</td>\n",
       "      <td>2377</td>\n",
       "      <td>949</td>\n",
       "      <td>887</td>\n",
       "      <td>999</td>\n",
       "      <td>1155</td>\n",
       "    </tr>\n",
       "    <tr>\n",
       "      <th>1</th>\n",
       "      <td>10</td>\n",
       "      <td>1838</td>\n",
       "      <td>Meta-Llama-3.1-8B-Instruct</td>\n",
       "      <td>2409</td>\n",
       "      <td>995</td>\n",
       "      <td>912</td>\n",
       "      <td>1053</td>\n",
       "      <td>1207</td>\n",
       "    </tr>\n",
       "    <tr>\n",
       "      <th>2</th>\n",
       "      <td>20</td>\n",
       "      <td>193</td>\n",
       "      <td>Meta-Llama-3.1-8B-Instruct</td>\n",
       "      <td>2434</td>\n",
       "      <td>985</td>\n",
       "      <td>933</td>\n",
       "      <td>1070</td>\n",
       "      <td>1221</td>\n",
       "    </tr>\n",
       "    <tr>\n",
       "      <th>3</th>\n",
       "      <td>30</td>\n",
       "      <td>1685</td>\n",
       "      <td>Meta-Llama-3.1-8B-Instruct</td>\n",
       "      <td>2290</td>\n",
       "      <td>1025</td>\n",
       "      <td>938</td>\n",
       "      <td>1113</td>\n",
       "      <td>1630</td>\n",
       "    </tr>\n",
       "    <tr>\n",
       "      <th>4</th>\n",
       "      <td>40</td>\n",
       "      <td>431</td>\n",
       "      <td>Meta-Llama-3.1-8B-Instruct</td>\n",
       "      <td>2523</td>\n",
       "      <td>1002</td>\n",
       "      <td>944</td>\n",
       "      <td>1055</td>\n",
       "      <td>1306</td>\n",
       "    </tr>\n",
       "  </tbody>\n",
       "</table>\n",
       "</div>"
      ],
      "text/plain": [
       "   layer  neuron                   explainer  Original  Summary  Highlight  \\\n",
       "0      0     286  Meta-Llama-3.1-8B-Instruct      2377      949        887   \n",
       "1     10    1838  Meta-Llama-3.1-8B-Instruct      2409      995        912   \n",
       "2     20     193  Meta-Llama-3.1-8B-Instruct      2434      985        933   \n",
       "3     30    1685  Meta-Llama-3.1-8B-Instruct      2290     1025        938   \n",
       "4     40     431  Meta-Llama-3.1-8B-Instruct      2523     1002        944   \n",
       "\n",
       "   HighlightSummary  AVHS  \n",
       "0               999  1155  \n",
       "1              1053  1207  \n",
       "2              1070  1221  \n",
       "3              1113  1630  \n",
       "4              1055  1306  "
      ]
     },
     "execution_count": 3,
     "metadata": {},
     "output_type": "execute_result"
    }
   ],
   "source": [
    "modes = [\"Original\", \"Summary\", \"Highlight\", \"HighlightSummary\", \"AVHS\"]\n",
    "new_results = {\"layer\":[], \"neuron\":[], \"explainer\":[]}\n",
    "for mode in modes:\n",
    "    new_results[mode] = []\n",
    "\n",
    "for i, row in neuron_df.iterrows():\n",
    "    layer = row[\"layer\"]\n",
    "    neuron = row[\"neuron\"]\n",
    "    new_results[\"layer\"].append(layer)\n",
    "    new_results[\"neuron\"].append(neuron)\n",
    "    new_results[\"explainer\"].append(EXPLAINER_MODEL)\n",
    "    neuron_record = load_neuron(layer, neuron)\n",
    "    \n",
    "    for mode in modes:\n",
    "        token_results = await utils.get_explanation(mode=mode, neuron_record=neuron_record, explainer_model=EXPLAINER_MODEL, get_token_only = True)\n",
    "        new_results[mode].append(token_results['total_tokens'])\n",
    "\n",
    "new_df = pd.DataFrame(new_results)\n",
    "new_df"
   ]
  },
  {
   "cell_type": "code",
   "execution_count": 4,
   "metadata": {},
   "outputs": [],
   "source": [
    "new_df.to_csv(\"test_results/\"+INPUT_PATH.split(\"/\")[-1].split(\".\")[0] + \"_tokens.csv\")"
   ]
  },
  {
   "cell_type": "code",
   "execution_count": 5,
   "metadata": {},
   "outputs": [
    {
     "name": "stdout",
     "output_type": "stream",
     "text": [
      "Original 2406.6\n",
      "Summary 991.2\n",
      "Highlight 922.8\n",
      "HighlightSummary 1058.0\n",
      "AVHS 1303.8\n"
     ]
    }
   ],
   "source": [
    "for mode in modes:\n",
    "    avg = np.mean(new_df[mode])\n",
    "    print(mode, avg)"
   ]
  },
  {
   "cell_type": "code",
   "execution_count": null,
   "metadata": {},
   "outputs": [],
   "source": []
  }
 ],
 "metadata": {
  "kernelspec": {
   "display_name": "sae",
   "language": "python",
   "name": "sae"
  },
  "language_info": {
   "codemirror_mode": {
    "name": "ipython",
    "version": 3
   },
   "file_extension": ".py",
   "mimetype": "text/x-python",
   "name": "python",
   "nbconvert_exporter": "python",
   "pygments_lexer": "ipython3",
   "version": "3.10.16"
  }
 },
 "nbformat": 4,
 "nbformat_minor": 4
}
